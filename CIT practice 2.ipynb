{
 "cells": [
  {
   "cell_type": "code",
   "execution_count": 1,
   "id": "766e2c73",
   "metadata": {},
   "outputs": [
    {
     "name": "stdout",
     "output_type": "stream",
     "text": [
      "hello world\n"
     ]
    }
   ],
   "source": [
    "print(\"hello world\")"
   ]
  },
  {
   "cell_type": "code",
   "execution_count": 2,
   "id": "56cfc512",
   "metadata": {},
   "outputs": [
    {
     "name": "stdout",
     "output_type": "stream",
     "text": [
      "hello \n",
      "world\n"
     ]
    }
   ],
   "source": [
    "print(\"hello \\nworld\")"
   ]
  },
  {
   "cell_type": "code",
   "execution_count": 3,
   "id": "3702ece6",
   "metadata": {},
   "outputs": [
    {
     "name": "stdout",
     "output_type": "stream",
     "text": [
      "hello \tworld\n"
     ]
    }
   ],
   "source": [
    "print(\"hello \\tworld\")"
   ]
  },
  {
   "cell_type": "code",
   "execution_count": 4,
   "id": "9169cab0",
   "metadata": {},
   "outputs": [],
   "source": [
    "#strings"
   ]
  },
  {
   "cell_type": "code",
   "execution_count": 5,
   "id": "adcb88e0",
   "metadata": {},
   "outputs": [],
   "source": [
    "a=\"hello world\""
   ]
  },
  {
   "cell_type": "code",
   "execution_count": 6,
   "id": "82b86cf4",
   "metadata": {},
   "outputs": [
    {
     "name": "stdout",
     "output_type": "stream",
     "text": [
      "hello world\n"
     ]
    }
   ],
   "source": [
    "print(a)"
   ]
  },
  {
   "cell_type": "code",
   "execution_count": 7,
   "id": "423cafca",
   "metadata": {},
   "outputs": [
    {
     "data": {
      "text/plain": [
       "'HELLO WORLD'"
      ]
     },
     "execution_count": 7,
     "metadata": {},
     "output_type": "execute_result"
    }
   ],
   "source": [
    "a.upper()"
   ]
  },
  {
   "cell_type": "code",
   "execution_count": 8,
   "id": "b25ebac1",
   "metadata": {},
   "outputs": [
    {
     "data": {
      "text/plain": [
       "'hello world'"
      ]
     },
     "execution_count": 8,
     "metadata": {},
     "output_type": "execute_result"
    }
   ],
   "source": [
    "a.lower()"
   ]
  },
  {
   "cell_type": "code",
   "execution_count": 9,
   "id": "59fc48c8",
   "metadata": {},
   "outputs": [
    {
     "data": {
      "text/plain": [
       "['hello', 'world']"
      ]
     },
     "execution_count": 9,
     "metadata": {},
     "output_type": "execute_result"
    }
   ],
   "source": [
    "a.split()"
   ]
  },
  {
   "cell_type": "code",
   "execution_count": 10,
   "id": "973624f0",
   "metadata": {},
   "outputs": [
    {
     "data": {
      "text/plain": [
       "'hello world'"
      ]
     },
     "execution_count": 10,
     "metadata": {},
     "output_type": "execute_result"
    }
   ],
   "source": [
    "a[::]"
   ]
  },
  {
   "cell_type": "code",
   "execution_count": 11,
   "id": "08de84f0",
   "metadata": {},
   "outputs": [
    {
     "data": {
      "text/plain": [
       "'ello w'"
      ]
     },
     "execution_count": 11,
     "metadata": {},
     "output_type": "execute_result"
    }
   ],
   "source": [
    "a[1:7:1]"
   ]
  },
  {
   "cell_type": "code",
   "execution_count": 12,
   "id": "46746741",
   "metadata": {},
   "outputs": [
    {
     "data": {
      "text/plain": [
       "'dlrow olleh'"
      ]
     },
     "execution_count": 12,
     "metadata": {},
     "output_type": "execute_result"
    }
   ],
   "source": [
    "a[::-1]"
   ]
  },
  {
   "cell_type": "code",
   "execution_count": 13,
   "id": "a1d5193c",
   "metadata": {},
   "outputs": [
    {
     "data": {
      "text/plain": [
       "'ello wor'"
      ]
     },
     "execution_count": 13,
     "metadata": {},
     "output_type": "execute_result"
    }
   ],
   "source": [
    "a[1:9]"
   ]
  },
  {
   "cell_type": "code",
   "execution_count": 14,
   "id": "08f0bda9",
   "metadata": {},
   "outputs": [
    {
     "data": {
      "text/plain": [
       "'ello worl'"
      ]
     },
     "execution_count": 14,
     "metadata": {},
     "output_type": "execute_result"
    }
   ],
   "source": [
    "a[1:-1]"
   ]
  },
  {
   "cell_type": "code",
   "execution_count": 15,
   "id": "717433b6",
   "metadata": {},
   "outputs": [],
   "source": [
    "#List"
   ]
  },
  {
   "cell_type": "code",
   "execution_count": 16,
   "id": "9ac495aa",
   "metadata": {},
   "outputs": [],
   "source": [
    "a_list=[\"Afridi\",40,22.0,\"True\"]"
   ]
  },
  {
   "cell_type": "code",
   "execution_count": 17,
   "id": "093e6c88",
   "metadata": {},
   "outputs": [],
   "source": [
    "b_list=[\"Saad\",99,'abc',\"False\"]"
   ]
  },
  {
   "cell_type": "code",
   "execution_count": 20,
   "id": "7b3ae03c",
   "metadata": {},
   "outputs": [],
   "source": [
    "c_list=a_list+b_list"
   ]
  },
  {
   "cell_type": "code",
   "execution_count": 21,
   "id": "7cfec622",
   "metadata": {},
   "outputs": [
    {
     "data": {
      "text/plain": [
       "['Afridi', 40, 22.0, 'True', 'Saad', 99, 'abc', 'False']"
      ]
     },
     "execution_count": 21,
     "metadata": {},
     "output_type": "execute_result"
    }
   ],
   "source": [
    "c_list"
   ]
  },
  {
   "cell_type": "code",
   "execution_count": 22,
   "id": "a12df190",
   "metadata": {},
   "outputs": [
    {
     "data": {
      "text/plain": [
       "'aad'"
      ]
     },
     "execution_count": 22,
     "metadata": {},
     "output_type": "execute_result"
    }
   ],
   "source": [
    "c_list[4][1:]"
   ]
  },
  {
   "cell_type": "code",
   "execution_count": 24,
   "id": "b31ab203",
   "metadata": {},
   "outputs": [
    {
     "data": {
      "text/plain": [
       "2"
      ]
     },
     "execution_count": 24,
     "metadata": {},
     "output_type": "execute_result"
    }
   ],
   "source": [
    "c_list.index(22)"
   ]
  },
  {
   "cell_type": "code",
   "execution_count": 25,
   "id": "909168e0",
   "metadata": {},
   "outputs": [],
   "source": [
    "c_list.append(44)"
   ]
  },
  {
   "cell_type": "code",
   "execution_count": 26,
   "id": "4a22500e",
   "metadata": {},
   "outputs": [
    {
     "data": {
      "text/plain": [
       "['Afridi', 40, 22.0, 'True', 'Saad', 99, 'abc', 'False', 44]"
      ]
     },
     "execution_count": 26,
     "metadata": {},
     "output_type": "execute_result"
    }
   ],
   "source": [
    "c_list"
   ]
  },
  {
   "cell_type": "code",
   "execution_count": 27,
   "id": "afe9a93d",
   "metadata": {},
   "outputs": [],
   "source": [
    "c_list.insert(3,'jkl')"
   ]
  },
  {
   "cell_type": "code",
   "execution_count": 28,
   "id": "875444f8",
   "metadata": {},
   "outputs": [
    {
     "data": {
      "text/plain": [
       "['Afridi', 40, 22.0, 'jkl', 'True', 'Saad', 99, 'abc', 'False', 44]"
      ]
     },
     "execution_count": 28,
     "metadata": {},
     "output_type": "execute_result"
    }
   ],
   "source": [
    "c_list"
   ]
  },
  {
   "cell_type": "code",
   "execution_count": 29,
   "id": "b330c4b3",
   "metadata": {},
   "outputs": [],
   "source": [
    "c_list.remove(99)"
   ]
  },
  {
   "cell_type": "code",
   "execution_count": 30,
   "id": "7c40d780",
   "metadata": {},
   "outputs": [
    {
     "data": {
      "text/plain": [
       "['Afridi', 40, 22.0, 'jkl', 'True', 'Saad', 'abc', 'False', 44]"
      ]
     },
     "execution_count": 30,
     "metadata": {},
     "output_type": "execute_result"
    }
   ],
   "source": [
    "c_list"
   ]
  },
  {
   "cell_type": "code",
   "execution_count": 31,
   "id": "36fe8a6c",
   "metadata": {},
   "outputs": [
    {
     "data": {
      "text/plain": [
       "44"
      ]
     },
     "execution_count": 31,
     "metadata": {},
     "output_type": "execute_result"
    }
   ],
   "source": [
    "c_list.pop()"
   ]
  },
  {
   "cell_type": "code",
   "execution_count": 32,
   "id": "42945ede",
   "metadata": {},
   "outputs": [
    {
     "data": {
      "text/plain": [
       "22.0"
      ]
     },
     "execution_count": 32,
     "metadata": {},
     "output_type": "execute_result"
    }
   ],
   "source": [
    "c_list.pop(2)"
   ]
  },
  {
   "cell_type": "code",
   "execution_count": 34,
   "id": "49dd77ee",
   "metadata": {},
   "outputs": [
    {
     "data": {
      "text/plain": [
       "1"
      ]
     },
     "execution_count": 34,
     "metadata": {},
     "output_type": "execute_result"
    }
   ],
   "source": [
    "c_list.count(40)"
   ]
  },
  {
   "cell_type": "code",
   "execution_count": 36,
   "id": "02708b88",
   "metadata": {},
   "outputs": [],
   "source": [
    "a=[1,5,3,9,2,6]"
   ]
  },
  {
   "cell_type": "code",
   "execution_count": 37,
   "id": "522d9bab",
   "metadata": {},
   "outputs": [],
   "source": [
    "a.sort()"
   ]
  },
  {
   "cell_type": "code",
   "execution_count": 38,
   "id": "9ccedb5a",
   "metadata": {},
   "outputs": [
    {
     "data": {
      "text/plain": [
       "[1, 2, 3, 5, 6, 9]"
      ]
     },
     "execution_count": 38,
     "metadata": {},
     "output_type": "execute_result"
    }
   ],
   "source": [
    "a"
   ]
  },
  {
   "cell_type": "code",
   "execution_count": 40,
   "id": "b74fe4b7",
   "metadata": {},
   "outputs": [
    {
     "name": "stdout",
     "output_type": "stream",
     "text": [
      "<list_reverseiterator object at 0x000000E4DF152B50>\n"
     ]
    }
   ],
   "source": [
    "print(reversed(a))"
   ]
  },
  {
   "cell_type": "code",
   "execution_count": 43,
   "id": "b8fc874d",
   "metadata": {},
   "outputs": [],
   "source": [
    "a.reverse()"
   ]
  },
  {
   "cell_type": "code",
   "execution_count": 44,
   "id": "1589f93f",
   "metadata": {},
   "outputs": [
    {
     "data": {
      "text/plain": [
       "[9, 6, 5, 3, 2, 1]"
      ]
     },
     "execution_count": 44,
     "metadata": {},
     "output_type": "execute_result"
    }
   ],
   "source": [
    "a"
   ]
  },
  {
   "cell_type": "code",
   "execution_count": 45,
   "id": "89e173a6",
   "metadata": {},
   "outputs": [],
   "source": [
    "from random import shuffle"
   ]
  },
  {
   "cell_type": "code",
   "execution_count": 47,
   "id": "d93517e8",
   "metadata": {},
   "outputs": [],
   "source": [
    "shuffle(a)"
   ]
  },
  {
   "cell_type": "code",
   "execution_count": 48,
   "id": "d50c4471",
   "metadata": {},
   "outputs": [
    {
     "data": {
      "text/plain": [
       "[9, 2, 6, 5, 3, 1]"
      ]
     },
     "execution_count": 48,
     "metadata": {},
     "output_type": "execute_result"
    }
   ],
   "source": [
    "a"
   ]
  },
  {
   "cell_type": "code",
   "execution_count": 51,
   "id": "d08d01a2",
   "metadata": {},
   "outputs": [],
   "source": [
    "name=\"Sam\""
   ]
  },
  {
   "cell_type": "code",
   "execution_count": 52,
   "id": "6c47187f",
   "metadata": {},
   "outputs": [],
   "source": [
    "new_name=\"P\"+name[1:]"
   ]
  },
  {
   "cell_type": "code",
   "execution_count": 53,
   "id": "81c7c01c",
   "metadata": {},
   "outputs": [
    {
     "data": {
      "text/plain": [
       "'Pam'"
      ]
     },
     "execution_count": 53,
     "metadata": {},
     "output_type": "execute_result"
    }
   ],
   "source": [
    "new_name"
   ]
  },
  {
   "cell_type": "code",
   "execution_count": 54,
   "id": "cfc8e26e",
   "metadata": {},
   "outputs": [],
   "source": [
    "letter=\"z\""
   ]
  },
  {
   "cell_type": "code",
   "execution_count": 55,
   "id": "f78ccc06",
   "metadata": {},
   "outputs": [
    {
     "data": {
      "text/plain": [
       "'zzzzzzzzzz'"
      ]
     },
     "execution_count": 55,
     "metadata": {},
     "output_type": "execute_result"
    }
   ],
   "source": [
    "letter*10"
   ]
  },
  {
   "cell_type": "code",
   "execution_count": 56,
   "id": "447adaaf",
   "metadata": {},
   "outputs": [
    {
     "data": {
      "text/plain": [
       "3"
      ]
     },
     "execution_count": 56,
     "metadata": {},
     "output_type": "execute_result"
    }
   ],
   "source": [
    "1+2"
   ]
  },
  {
   "cell_type": "code",
   "execution_count": 57,
   "id": "8a3f1c78",
   "metadata": {},
   "outputs": [
    {
     "data": {
      "text/plain": [
       "'12'"
      ]
     },
     "execution_count": 57,
     "metadata": {},
     "output_type": "execute_result"
    }
   ],
   "source": [
    "\"1\"+\"2\""
   ]
  },
  {
   "cell_type": "code",
   "execution_count": 58,
   "id": "a92ef438",
   "metadata": {},
   "outputs": [
    {
     "name": "stdout",
     "output_type": "stream",
     "text": [
      "200.0\n"
     ]
    }
   ],
   "source": [
    "print(2E2)"
   ]
  },
  {
   "cell_type": "code",
   "execution_count": 59,
   "id": "b21ef645",
   "metadata": {},
   "outputs": [],
   "source": [
    "a=10//3"
   ]
  },
  {
   "cell_type": "code",
   "execution_count": 60,
   "id": "245d7382",
   "metadata": {},
   "outputs": [
    {
     "data": {
      "text/plain": [
       "3"
      ]
     },
     "execution_count": 60,
     "metadata": {},
     "output_type": "execute_result"
    }
   ],
   "source": [
    "a"
   ]
  },
  {
   "cell_type": "code",
   "execution_count": 63,
   "id": "dc747c21",
   "metadata": {},
   "outputs": [
    {
     "data": {
      "text/plain": [
       "int"
      ]
     },
     "execution_count": 63,
     "metadata": {},
     "output_type": "execute_result"
    }
   ],
   "source": [
    "type(a)"
   ]
  },
  {
   "cell_type": "code",
   "execution_count": 64,
   "id": "f61967cc",
   "metadata": {},
   "outputs": [],
   "source": [
    "#tuples"
   ]
  },
  {
   "cell_type": "code",
   "execution_count": 65,
   "id": "2b1b88a1",
   "metadata": {},
   "outputs": [],
   "source": [
    "a_tuple=(\"Afridi\",66,23.0,\"False\")"
   ]
  },
  {
   "cell_type": "code",
   "execution_count": 68,
   "id": "b49c6e88",
   "metadata": {},
   "outputs": [
    {
     "data": {
      "text/plain": [
       "tuple"
      ]
     },
     "execution_count": 68,
     "metadata": {},
     "output_type": "execute_result"
    }
   ],
   "source": [
    "type(a_tuple)"
   ]
  },
  {
   "cell_type": "code",
   "execution_count": 73,
   "id": "07c04a6b",
   "metadata": {},
   "outputs": [],
   "source": [
    "b=list(a_tuple)"
   ]
  },
  {
   "cell_type": "code",
   "execution_count": 74,
   "id": "3ea99719",
   "metadata": {},
   "outputs": [
    {
     "data": {
      "text/plain": [
       "list"
      ]
     },
     "execution_count": 74,
     "metadata": {},
     "output_type": "execute_result"
    }
   ],
   "source": [
    "type(b)"
   ]
  },
  {
   "cell_type": "code",
   "execution_count": 75,
   "id": "1db9fef1",
   "metadata": {},
   "outputs": [],
   "source": [
    "b.append(12)"
   ]
  },
  {
   "cell_type": "code",
   "execution_count": 76,
   "id": "2852a8b7",
   "metadata": {},
   "outputs": [
    {
     "data": {
      "text/plain": [
       "['Afridi', 66, 23.0, 'False', 12]"
      ]
     },
     "execution_count": 76,
     "metadata": {},
     "output_type": "execute_result"
    }
   ],
   "source": [
    "b"
   ]
  },
  {
   "cell_type": "code",
   "execution_count": 77,
   "id": "59da54ee",
   "metadata": {},
   "outputs": [],
   "source": [
    "a_tuple=tuple(b)"
   ]
  },
  {
   "cell_type": "code",
   "execution_count": 78,
   "id": "e51a4a57",
   "metadata": {},
   "outputs": [
    {
     "data": {
      "text/plain": [
       "('Afridi', 66, 23.0, 'False', 12)"
      ]
     },
     "execution_count": 78,
     "metadata": {},
     "output_type": "execute_result"
    }
   ],
   "source": [
    "a_tuple"
   ]
  },
  {
   "cell_type": "code",
   "execution_count": 79,
   "id": "eec4c256",
   "metadata": {},
   "outputs": [
    {
     "data": {
      "text/plain": [
       "1"
      ]
     },
     "execution_count": 79,
     "metadata": {},
     "output_type": "execute_result"
    }
   ],
   "source": [
    "a_tuple.count(23)"
   ]
  },
  {
   "cell_type": "code",
   "execution_count": 80,
   "id": "aa3474e4",
   "metadata": {},
   "outputs": [
    {
     "data": {
      "text/plain": [
       "1"
      ]
     },
     "execution_count": 80,
     "metadata": {},
     "output_type": "execute_result"
    }
   ],
   "source": [
    "a_tuple.index(66)"
   ]
  },
  {
   "cell_type": "code",
   "execution_count": 81,
   "id": "b5c6bb81",
   "metadata": {},
   "outputs": [],
   "source": [
    "#string_interpolation"
   ]
  },
  {
   "cell_type": "code",
   "execution_count": 82,
   "id": "fc907a11",
   "metadata": {},
   "outputs": [
    {
     "name": "stdout",
     "output_type": "stream",
     "text": [
      "The quick brown fox.\n"
     ]
    }
   ],
   "source": [
    "print(\"The {} {} {}\".format(\"quick\",\"brown\",\"fox.\"))"
   ]
  },
  {
   "cell_type": "code",
   "execution_count": 84,
   "id": "0fb7d97d",
   "metadata": {},
   "outputs": [
    {
     "name": "stdout",
     "output_type": "stream",
     "text": [
      "The quick brown fox\n"
     ]
    }
   ],
   "source": [
    "print(\"The {1} {0} {2}\".format(\"brown\",\"quick\",\"fox\"))"
   ]
  },
  {
   "cell_type": "code",
   "execution_count": 85,
   "id": "c163511f",
   "metadata": {},
   "outputs": [
    {
     "name": "stdout",
     "output_type": "stream",
     "text": [
      "The qquick brown fox\n"
     ]
    }
   ],
   "source": [
    "print(\"The {q} {b} {f}\".format(b=\"brown\",q=\"qquick\",f=\"fox\"))"
   ]
  },
  {
   "cell_type": "code",
   "execution_count": 88,
   "id": "65b95089",
   "metadata": {},
   "outputs": [
    {
     "name": "stdout",
     "output_type": "stream",
     "text": [
      "The quick brown fox\n"
     ]
    }
   ],
   "source": [
    "print(f\"The {'quick'} {'brown'} {'fox'}\")"
   ]
  },
  {
   "cell_type": "code",
   "execution_count": 89,
   "id": "b9fae014",
   "metadata": {},
   "outputs": [],
   "source": [
    "result=100/666"
   ]
  },
  {
   "cell_type": "code",
   "execution_count": 90,
   "id": "b6534d17",
   "metadata": {},
   "outputs": [
    {
     "data": {
      "text/plain": [
       "0.15015015015015015"
      ]
     },
     "execution_count": 90,
     "metadata": {},
     "output_type": "execute_result"
    }
   ],
   "source": [
    "result"
   ]
  },
  {
   "cell_type": "code",
   "execution_count": 93,
   "id": "11e7de49",
   "metadata": {},
   "outputs": [
    {
     "name": "stdout",
     "output_type": "stream",
     "text": [
      "The result was     0.1502\n"
     ]
    }
   ],
   "source": [
    "print(\"The result was {r:10.4f}\".format(r=result))"
   ]
  },
  {
   "cell_type": "code",
   "execution_count": 94,
   "id": "59c8b2ef",
   "metadata": {},
   "outputs": [],
   "source": [
    "my_income=1000\n",
    "tax_rate=0.10\n",
    "my_total_tax_rate=my_income*tax_rate"
   ]
  },
  {
   "cell_type": "code",
   "execution_count": 95,
   "id": "27b888f5",
   "metadata": {},
   "outputs": [
    {
     "data": {
      "text/plain": [
       "100.0"
      ]
     },
     "execution_count": 95,
     "metadata": {},
     "output_type": "execute_result"
    }
   ],
   "source": [
    "my_total_tax_rate"
   ]
  },
  {
   "cell_type": "code",
   "execution_count": 96,
   "id": "d57f789b",
   "metadata": {},
   "outputs": [],
   "source": [
    "#set"
   ]
  },
  {
   "cell_type": "code",
   "execution_count": 97,
   "id": "fab44526",
   "metadata": {},
   "outputs": [],
   "source": [
    "a={1,2,3,4,5,6}\n",
    "b={5,6,7,8,9,10}"
   ]
  },
  {
   "cell_type": "code",
   "execution_count": 98,
   "id": "35ac1323",
   "metadata": {},
   "outputs": [
    {
     "data": {
      "text/plain": [
       "{1, 2, 3, 4, 5, 6}"
      ]
     },
     "execution_count": 98,
     "metadata": {},
     "output_type": "execute_result"
    }
   ],
   "source": [
    "a"
   ]
  },
  {
   "cell_type": "code",
   "execution_count": 99,
   "id": "de26d521",
   "metadata": {},
   "outputs": [
    {
     "data": {
      "text/plain": [
       "{5, 6, 7, 8, 9, 10}"
      ]
     },
     "execution_count": 99,
     "metadata": {},
     "output_type": "execute_result"
    }
   ],
   "source": [
    "b"
   ]
  },
  {
   "cell_type": "code",
   "execution_count": 100,
   "id": "612783be",
   "metadata": {},
   "outputs": [
    {
     "data": {
      "text/plain": [
       "{1, 2, 3, 4, 5, 6, 7, 8, 9, 10}"
      ]
     },
     "execution_count": 100,
     "metadata": {},
     "output_type": "execute_result"
    }
   ],
   "source": [
    "a | b"
   ]
  },
  {
   "cell_type": "code",
   "execution_count": 101,
   "id": "4bdc3f83",
   "metadata": {},
   "outputs": [
    {
     "data": {
      "text/plain": [
       "{5, 6}"
      ]
     },
     "execution_count": 101,
     "metadata": {},
     "output_type": "execute_result"
    }
   ],
   "source": [
    "a & b"
   ]
  },
  {
   "cell_type": "code",
   "execution_count": 105,
   "id": "d39b0091",
   "metadata": {},
   "outputs": [],
   "source": [
    "a.update()"
   ]
  },
  {
   "cell_type": "code",
   "execution_count": 106,
   "id": "39721541",
   "metadata": {},
   "outputs": [
    {
     "data": {
      "text/plain": [
       "{1, 2, 3, 4, 5, 6}"
      ]
     },
     "execution_count": 106,
     "metadata": {},
     "output_type": "execute_result"
    }
   ],
   "source": [
    "a"
   ]
  },
  {
   "cell_type": "code",
   "execution_count": 107,
   "id": "700c0956",
   "metadata": {},
   "outputs": [
    {
     "name": "stdout",
     "output_type": "stream",
     "text": [
      "{1, 2, 3, 4, 5, 6}\n"
     ]
    }
   ],
   "source": [
    "print(a)"
   ]
  },
  {
   "cell_type": "code",
   "execution_count": 108,
   "id": "c94e28bd",
   "metadata": {},
   "outputs": [],
   "source": [
    "#dictionary"
   ]
  },
  {
   "cell_type": "code",
   "execution_count": 116,
   "id": "66724b79",
   "metadata": {},
   "outputs": [],
   "source": [
    "my_shop={\"orange\":100,\"milk\":43,\"t-shirt\":{\"insidekey\":37}}"
   ]
  },
  {
   "cell_type": "code",
   "execution_count": 117,
   "id": "48470e84",
   "metadata": {},
   "outputs": [
    {
     "data": {
      "text/plain": [
       "100"
      ]
     },
     "execution_count": 117,
     "metadata": {},
     "output_type": "execute_result"
    }
   ],
   "source": [
    "my_shop[\"orange\"]"
   ]
  },
  {
   "cell_type": "code",
   "execution_count": 118,
   "id": "144d2634",
   "metadata": {},
   "outputs": [
    {
     "data": {
      "text/plain": [
       "dict_keys(['orange', 'milk', 't-shirt'])"
      ]
     },
     "execution_count": 118,
     "metadata": {},
     "output_type": "execute_result"
    }
   ],
   "source": [
    "my_shop.keys()"
   ]
  },
  {
   "cell_type": "code",
   "execution_count": 119,
   "id": "3b15d03d",
   "metadata": {},
   "outputs": [
    {
     "data": {
      "text/plain": [
       "dict_values([100, 43, {'insidekey': 37}])"
      ]
     },
     "execution_count": 119,
     "metadata": {},
     "output_type": "execute_result"
    }
   ],
   "source": [
    "my_shop.values()"
   ]
  },
  {
   "cell_type": "code",
   "execution_count": 120,
   "id": "d3ff29bc",
   "metadata": {},
   "outputs": [
    {
     "data": {
      "text/plain": [
       "dict_items([('orange', 100), ('milk', 43), ('t-shirt', {'insidekey': 37})])"
      ]
     },
     "execution_count": 120,
     "metadata": {},
     "output_type": "execute_result"
    }
   ],
   "source": [
    "my_shop.items()"
   ]
  },
  {
   "cell_type": "code",
   "execution_count": 121,
   "id": "7947e480",
   "metadata": {},
   "outputs": [
    {
     "data": {
      "text/plain": [
       "37"
      ]
     },
     "execution_count": 121,
     "metadata": {},
     "output_type": "execute_result"
    }
   ],
   "source": [
    "my_shop[\"t-shirt\"][\"insidekey\"]"
   ]
  },
  {
   "cell_type": "code",
   "execution_count": 122,
   "id": "578411c0",
   "metadata": {},
   "outputs": [],
   "source": [
    "my_shop[\"potato\"]=29"
   ]
  },
  {
   "cell_type": "code",
   "execution_count": 123,
   "id": "e3f16946",
   "metadata": {},
   "outputs": [
    {
     "data": {
      "text/plain": [
       "{'orange': 100, 'milk': 43, 't-shirt': {'insidekey': 37}, 'potato': 29}"
      ]
     },
     "execution_count": 123,
     "metadata": {},
     "output_type": "execute_result"
    }
   ],
   "source": [
    "my_shop"
   ]
  },
  {
   "cell_type": "code",
   "execution_count": 124,
   "id": "3fb2b3b5",
   "metadata": {},
   "outputs": [],
   "source": [
    "#if_elif_else_statement"
   ]
  },
  {
   "cell_type": "code",
   "execution_count": 130,
   "id": "7c2fec59",
   "metadata": {},
   "outputs": [
    {
     "name": "stdout",
     "output_type": "stream",
     "text": [
      "Students are cool!\n"
     ]
    }
   ],
   "source": [
    "loc = \"school\"\n",
    "try:\n",
    "    if loc ==\"Auto_shop\":\n",
    "        print(\"Cars are cool!\")\n",
    "    elif loc==\"Bank\":\n",
    "        print(\"Money is cool!\")\n",
    "    elif loc==\"school\":\n",
    "        print(\"Students are cool!\")\n",
    "\n",
    "    else:\n",
    "        print(\"I don't know that much!\")\n",
    "except:\n",
    "    print(\"invalid\")"
   ]
  },
  {
   "cell_type": "code",
   "execution_count": 132,
   "id": "2b59cae4",
   "metadata": {},
   "outputs": [
    {
     "name": "stdout",
     "output_type": "stream",
     "text": [
      "Do you have an invitation?\n"
     ]
    }
   ],
   "source": [
    "name=[\"Afridi\",\"Saad\",\"Rahad\"]\n",
    "guest=\"Sam\"\n",
    "\n",
    "if guest in name:\n",
    "    print(\"Welcome\")\n",
    "else:\n",
    "    print(\"Do you have an invitation?\")"
   ]
  },
  {
   "cell_type": "code",
   "execution_count": 134,
   "id": "1f480c17",
   "metadata": {},
   "outputs": [
    {
     "name": "stdout",
     "output_type": "stream",
     "text": [
      "Enter the lenght of reactangle:22\n",
      "Enter the breadth of rectangle:22\n",
      "It is square\n"
     ]
    }
   ],
   "source": [
    "lenght=int(input(\"Enter the lenght of reactangle:\"))\n",
    "breadth=int(input(\"Enter the breadth of rectangle:\"))\n",
    "if lenght==breadth:\n",
    "    print(\"It is square\")\n",
    "else:\n",
    "    print(\"It is not square\")"
   ]
  },
  {
   "cell_type": "code",
   "execution_count": 136,
   "id": "50912ba3",
   "metadata": {},
   "outputs": [
    {
     "name": "stdout",
     "output_type": "stream",
     "text": [
      "Enter the purchase quantity: 999\n",
      "you don't get any discount!\n"
     ]
    }
   ],
   "source": [
    "purchase_quantity=int(input(\"Enter the purchase quantity: \"))\n",
    "\n",
    "if purchase_quantity>1000:\n",
    "    discount=purchase_quantity*.10\n",
    "    print(f\"your discount amount is {discount}\")\n",
    "else:\n",
    "    print(\"you don't get any discount!\")"
   ]
  },
  {
   "cell_type": "code",
   "execution_count": 155,
   "id": "83f1f50d",
   "metadata": {},
   "outputs": [
    {
     "name": "stdout",
     "output_type": "stream",
     "text": [
      "Enter your marks here: 24\n",
      "The grade is F\n"
     ]
    }
   ],
   "source": [
    "marks=int(input(\"Enter your marks here: \"))\n",
    "\n",
    "if marks<25:\n",
    "    print(\"The grade is F\")\n",
    "elif marks<45:\n",
    "    print(\"The grade is E\")\n",
    "elif marks<50:\n",
    "    print(\"The grade is D\")\n",
    "elif marks<60:\n",
    "    print(\"The grade is C\")\n",
    "elif marks<80:\n",
    "    print(\"The grade is B\")\n",
    "else:\n",
    "    print(\"The grade is A\")"
   ]
  },
  {
   "cell_type": "code",
   "execution_count": 175,
   "id": "366aa84a",
   "metadata": {},
   "outputs": [
    {
     "name": "stdout",
     "output_type": "stream",
     "text": [
      "Enter your age a: 1\n",
      "Enter your age b: 1\n",
      "Enter your age c: 2\n",
      "The oldest is 2\n",
      "The youngest is 1\n"
     ]
    }
   ],
   "source": [
    "a=int(input(\"Enter your age a: \"))\n",
    "b=int(input(\"Enter your age b: \"))\n",
    "c=int(input(\"Enter your age c: \"))\n",
    "\n",
    "if a>c and a>b:\n",
    "    oldest=a\n",
    "elif b>c and b>a:\n",
    "    oldest=b\n",
    "else:\n",
    "    oldest=c\n",
    "    \n",
    "    \n",
    "    \n",
    "if a<c and a<b:\n",
    "    youngest=a\n",
    "elif b<c and b<c:\n",
    "    youngest=b\n",
    "else:\n",
    "    youngest=c\n",
    "\n",
    "    \n",
    "print(f'The oldest is {oldest}')\n",
    "print(f'The youngest is {youngest}')\n",
    "    "
   ]
  },
  {
   "cell_type": "code",
   "execution_count": 176,
   "id": "1fa5a0df",
   "metadata": {},
   "outputs": [
    {
     "name": "stdout",
     "output_type": "stream",
     "text": [
      "Enter a number: 2\n",
      "even number\n"
     ]
    }
   ],
   "source": [
    "#Q.2\n",
    "#if a_statement:\n",
    "    #print(\"Something\")\n",
    "#Q.5\n",
    "a=int(input(\"Enter a number: \"))\n",
    "\n",
    "if a%2==0:\n",
    "    print(\"even number\")\n",
    "else:\n",
    "    print(\"odd number\")"
   ]
  },
  {
   "cell_type": "code",
   "execution_count": 189,
   "id": "3103f9a1",
   "metadata": {},
   "outputs": [
    {
     "name": "stdout",
     "output_type": "stream",
     "text": [
      "Enter a number: 14\n",
      "Divisible\n"
     ]
    }
   ],
   "source": [
    "#Q.6\n",
    "a=int(input(\"Enter a number: \"))\n",
    "\n",
    "if a%7==0:\n",
    "    print('Divisible')\n",
    "else:\n",
    "    print(\"not\")"
   ]
  },
  {
   "cell_type": "code",
   "execution_count": 193,
   "id": "3359d360",
   "metadata": {},
   "outputs": [
    {
     "name": "stdout",
     "output_type": "stream",
     "text": [
      "Enter a number: 22\n",
      "bye\n"
     ]
    }
   ],
   "source": [
    "#Q.7\n",
    "a=int(input(\"Enter a number: \"))\n",
    "\n",
    "if a%5==0:\n",
    "    print('Hello')\n",
    "else:\n",
    "    print(\"bye\")"
   ]
  },
  {
   "cell_type": "code",
   "execution_count": null,
   "id": "250f3363",
   "metadata": {},
   "outputs": [],
   "source": [
    "#Q.8\n",
    "unit=int(input(\"Enter your unit: \"))\n",
    "amt=0\n",
    "if unit<=100:\n",
    "    amt=0\n",
    "elif unit>100 and unit <= 200:\n",
    "    amt=(unit-100)*5\n",
    "elif unit>200:\n",
    "    amt=500(unit-200)*10\n",
    "print(\"Amount to pay:\",amt)"
   ]
  },
  {
   "cell_type": "code",
   "execution_count": 1,
   "id": "ef21566a",
   "metadata": {},
   "outputs": [
    {
     "name": "stderr",
     "output_type": "stream",
     "text": [
      "<>:8: SyntaxWarning: 'int' object is not callable; perhaps you missed a comma?\n",
      "<>:8: SyntaxWarning: 'int' object is not callable; perhaps you missed a comma?\n"
     ]
    },
    {
     "name": "stdout",
     "output_type": "stream",
     "text": [
      "Enter your unit: 350\n"
     ]
    },
    {
     "name": "stderr",
     "output_type": "stream",
     "text": [
      "C:\\Users\\a\\AppData\\Local\\Temp\\ipykernel_3448\\2897821118.py:8: SyntaxWarning: 'int' object is not callable; perhaps you missed a comma?\n",
      "  amt=500(unit-200)*10\n"
     ]
    },
    {
     "ename": "TypeError",
     "evalue": "'int' object is not callable",
     "output_type": "error",
     "traceback": [
      "\u001b[1;31m---------------------------------------------------------------------------\u001b[0m",
      "\u001b[1;31mTypeError\u001b[0m                                 Traceback (most recent call last)",
      "\u001b[1;32m~\\AppData\\Local\\Temp\\ipykernel_3448\\2897821118.py\u001b[0m in \u001b[0;36m<module>\u001b[1;34m\u001b[0m\n\u001b[0;32m      6\u001b[0m     \u001b[0mamt\u001b[0m\u001b[1;33m=\u001b[0m\u001b[1;33m(\u001b[0m\u001b[0munit\u001b[0m\u001b[1;33m-\u001b[0m\u001b[1;36m100\u001b[0m\u001b[1;33m)\u001b[0m\u001b[1;33m*\u001b[0m\u001b[1;36m5\u001b[0m\u001b[1;33m\u001b[0m\u001b[1;33m\u001b[0m\u001b[0m\n\u001b[0;32m      7\u001b[0m \u001b[1;32melif\u001b[0m \u001b[0munit\u001b[0m\u001b[1;33m>\u001b[0m\u001b[1;36m200\u001b[0m\u001b[1;33m:\u001b[0m\u001b[1;33m\u001b[0m\u001b[1;33m\u001b[0m\u001b[0m\n\u001b[1;32m----> 8\u001b[1;33m     \u001b[0mamt\u001b[0m\u001b[1;33m=\u001b[0m\u001b[1;36m500\u001b[0m\u001b[1;33m(\u001b[0m\u001b[0munit\u001b[0m\u001b[1;33m-\u001b[0m\u001b[1;36m200\u001b[0m\u001b[1;33m)\u001b[0m\u001b[1;33m*\u001b[0m\u001b[1;36m10\u001b[0m\u001b[1;33m\u001b[0m\u001b[1;33m\u001b[0m\u001b[0m\n\u001b[0m\u001b[0;32m      9\u001b[0m \u001b[0mprint\u001b[0m\u001b[1;33m(\u001b[0m\u001b[1;34m\"Amount to pay:\"\u001b[0m\u001b[1;33m,\u001b[0m\u001b[0mamt\u001b[0m\u001b[1;33m)\u001b[0m\u001b[1;33m\u001b[0m\u001b[1;33m\u001b[0m\u001b[0m\n",
      "\u001b[1;31mTypeError\u001b[0m: 'int' object is not callable"
     ]
    }
   ],
   "source": [
    "unit=int(input(\"Enter your unit: \"))\n",
    "amt=0\n",
    "if unit<=100:\n",
    "    amt=0\n",
    "elif unit>100 and unit <= 200:\n",
    "    amt=(unit-100)*5\n",
    "elif unit>200:\n",
    "    amt=500(unit-200)*10\n",
    "print(\"Amount to pay:\",amt)"
   ]
  },
  {
   "cell_type": "code",
   "execution_count": 3,
   "id": "af533f81",
   "metadata": {},
   "outputs": [
    {
     "name": "stdout",
     "output_type": "stream",
     "text": [
      "Enter the number: 5\n",
      "Last digit of number is 5\n"
     ]
    }
   ],
   "source": [
    "#Q.9\n",
    "num=int(input(\"Enter the number: \"))\n",
    "print(\"Last digit of number is\",num%10)"
   ]
  },
  {
   "cell_type": "code",
   "execution_count": 7,
   "id": "c82d1133",
   "metadata": {},
   "outputs": [
    {
     "name": "stdout",
     "output_type": "stream",
     "text": [
      "Enter the number: 4\n",
      "Last digit of number is 4\n"
     ]
    }
   ],
   "source": [
    "num=int(input(\"Enter the number: \"))\n",
    "if num==num:\n",
    "    print(f\"Last digit of number is {num}\")"
   ]
  },
  {
   "cell_type": "code",
   "execution_count": 11,
   "id": "20e967e4",
   "metadata": {},
   "outputs": [
    {
     "name": "stdout",
     "output_type": "stream",
     "text": [
      "Enter the number: 9\n",
      "Last digit of number is divisible 9\n"
     ]
    }
   ],
   "source": [
    "num=int(input(\"Enter the number: \"))\n",
    "if num%3==0:\n",
    "    print(f\"Last digit of number is divisible {num}\")\n",
    "else:\n",
    "    print(\"Not divisible\")"
   ]
  },
  {
   "cell_type": "code",
   "execution_count": 14,
   "id": "1b7f0e8e",
   "metadata": {},
   "outputs": [
    {
     "name": "stdout",
     "output_type": "stream",
     "text": [
      "Enter the marks here: 59\n",
      "D\n"
     ]
    }
   ],
   "source": [
    "marks=int(input(\"Enter the marks here: \"))\n",
    "if marks>90:\n",
    "    print(\"A\")\n",
    "elif marks>80 and marks<=90:\n",
    "    print(\"B\")\n",
    "elif marks>=60 and marks<=80:\n",
    "    print(\"C\")\n",
    "elif marks<60:\n",
    "    print(\"D\")"
   ]
  },
  {
   "cell_type": "code",
   "execution_count": 16,
   "id": "7fd4520d",
   "metadata": {},
   "outputs": [
    {
     "name": "stdout",
     "output_type": "stream",
     "text": [
      "enter price: 50000\n",
      "Tax is 25000.0\n"
     ]
    }
   ],
   "source": [
    "price=int(input(\"enter price: \"))\n",
    "if price>100000:\n",
    "    tax=price*.15\n",
    "    print(f\"Tax is {tax}\")\n",
    "elif price>50000 and price<=100000:\n",
    "    tax=price*.10\n",
    "    print(f\"Tax is {tax}\")\n",
    "elif price<=50000:\n",
    "    tax=price*.5\n",
    "    print(f\"Tax is {tax}\")"
   ]
  },
  {
   "cell_type": "code",
   "execution_count": 20,
   "id": "fa9d7095",
   "metadata": {},
   "outputs": [
    {
     "name": "stdout",
     "output_type": "stream",
     "text": [
      "Enter the year2023\n",
      "Entered year is not a leap year\n"
     ]
    }
   ],
   "source": [
    "yr=int(input(\"Enter the year\"))\n",
    "\n",
    "if yr%100==0:\n",
    "\n",
    "    if yr%400==0:\n",
    "\n",
    "        print(\"Entered year is leap year\")\n",
    "\n",
    "    else:\n",
    "\n",
    "        print(\"Entered year is not a leap year\")\n",
    "\n",
    "else:\n",
    "\n",
    "    if yr%4 == 0:\n",
    "\n",
    "        print(\"Entered year is leap year\")\n",
    "\n",
    "    else:\n",
    "\n",
    "        print(\"Entered year is not a leap year\")\n",
    "\n"
   ]
  },
  {
   "cell_type": "code",
   "execution_count": 21,
   "id": "713ec3d9",
   "metadata": {},
   "outputs": [
    {
     "name": "stdout",
     "output_type": "stream",
     "text": [
      "Take a num between 1 to 7 : 7\n",
      "satday\n"
     ]
    }
   ],
   "source": [
    "num=int(input(\"Take a num between 1 to 7 : \"))\n",
    "if num==1:\n",
    "    print(\"sunday\")\n",
    "elif num==2:\n",
    "    print(\"monday\")\n",
    "elif num==3:\n",
    "    print(\"tuesday\")\n",
    "elif num==4:\n",
    "    print(\"wednesday\")\n",
    "elif num==5:\n",
    "    print(\"thursday\")\n",
    "elif num==6:\n",
    "    print('friday')\n",
    "else:\n",
    "    print(\"satday\")"
   ]
  },
  {
   "cell_type": "code",
   "execution_count": null,
   "id": "81ac83a8",
   "metadata": {},
   "outputs": [],
   "source": []
  }
 ],
 "metadata": {
  "kernelspec": {
   "display_name": "Python 3 (ipykernel)",
   "language": "python",
   "name": "python3"
  },
  "language_info": {
   "codemirror_mode": {
    "name": "ipython",
    "version": 3
   },
   "file_extension": ".py",
   "mimetype": "text/x-python",
   "name": "python",
   "nbconvert_exporter": "python",
   "pygments_lexer": "ipython3",
   "version": "3.9.13"
  }
 },
 "nbformat": 4,
 "nbformat_minor": 5
}
